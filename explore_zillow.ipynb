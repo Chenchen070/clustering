{
 "cells": [
  {
   "cell_type": "markdown",
   "id": "2665d4a3",
   "metadata": {},
   "source": [
    "# Exercises:\n",
    "\n",
    "### Sourcing the Zillow database as the data source, create a jupyter notebook named explore_zillow and do the following:\n",
    "\n",
    "1. Ask at least 5 questions about the data, keeping in mind that your target variable is logerror. e.g. Is logerror significantly different for properties in LA County vs Orange County vs Ventura County?\n",
    "\n",
    "2. Answer those questions through a mix of statistical tests and visualizations."
   ]
  },
  {
   "cell_type": "code",
   "execution_count": 1,
   "id": "1621b818",
   "metadata": {},
   "outputs": [],
   "source": [
    "import warnings\n",
    "warnings.filterwarnings(\"ignore\")\n",
    "import pandas as pd\n",
    "import numpy as np\n",
    "import scipy.stats as stats\n",
    "import matplotlib.pyplot as plt\n",
    "from matplotlib import cm\n",
    "import seaborn as sns\n",
    "from sklearn.model_selection import learning_curve\n",
    "\n",
    "import zillow_clustering_acquire\n",
    "import zillow_clustering_prepare"
   ]
  },
  {
   "cell_type": "code",
   "execution_count": 2,
   "id": "ad3b7897",
   "metadata": {},
   "outputs": [
    {
     "data": {
      "text/html": [
       "<div>\n",
       "<style scoped>\n",
       "    .dataframe tbody tr th:only-of-type {\n",
       "        vertical-align: middle;\n",
       "    }\n",
       "\n",
       "    .dataframe tbody tr th {\n",
       "        vertical-align: top;\n",
       "    }\n",
       "\n",
       "    .dataframe thead th {\n",
       "        text-align: right;\n",
       "    }\n",
       "</style>\n",
       "<table border=\"1\" class=\"dataframe\">\n",
       "  <thead>\n",
       "    <tr style=\"text-align: right;\">\n",
       "      <th></th>\n",
       "      <th>parcelid</th>\n",
       "      <th>id</th>\n",
       "      <th>airconditioningtypeid</th>\n",
       "      <th>architecturalstyletypeid</th>\n",
       "      <th>basementsqft</th>\n",
       "      <th>bathroomcnt</th>\n",
       "      <th>bedroomcnt</th>\n",
       "      <th>buildingclasstypeid</th>\n",
       "      <th>buildingqualitytypeid</th>\n",
       "      <th>calculatedbathnbr</th>\n",
       "      <th>...</th>\n",
       "      <th>taxvaluedollarcnt</th>\n",
       "      <th>assessmentyear</th>\n",
       "      <th>landtaxvaluedollarcnt</th>\n",
       "      <th>taxamount</th>\n",
       "      <th>taxdelinquencyflag</th>\n",
       "      <th>taxdelinquencyyear</th>\n",
       "      <th>censustractandblock</th>\n",
       "      <th>id</th>\n",
       "      <th>logerror</th>\n",
       "      <th>transactiondate</th>\n",
       "    </tr>\n",
       "  </thead>\n",
       "  <tbody>\n",
       "    <tr>\n",
       "      <th>0</th>\n",
       "      <td>14297519</td>\n",
       "      <td>1727539</td>\n",
       "      <td>NaN</td>\n",
       "      <td>NaN</td>\n",
       "      <td>NaN</td>\n",
       "      <td>3.5</td>\n",
       "      <td>4.0</td>\n",
       "      <td>None</td>\n",
       "      <td>NaN</td>\n",
       "      <td>3.5</td>\n",
       "      <td>...</td>\n",
       "      <td>1023282.0</td>\n",
       "      <td>2016.0</td>\n",
       "      <td>537569.0</td>\n",
       "      <td>11013.72</td>\n",
       "      <td>None</td>\n",
       "      <td>NaN</td>\n",
       "      <td>6.059063e+13</td>\n",
       "      <td>0</td>\n",
       "      <td>0.025595</td>\n",
       "      <td>2017-01-01</td>\n",
       "    </tr>\n",
       "    <tr>\n",
       "      <th>1</th>\n",
       "      <td>17052889</td>\n",
       "      <td>1387261</td>\n",
       "      <td>NaN</td>\n",
       "      <td>NaN</td>\n",
       "      <td>NaN</td>\n",
       "      <td>1.0</td>\n",
       "      <td>2.0</td>\n",
       "      <td>None</td>\n",
       "      <td>NaN</td>\n",
       "      <td>1.0</td>\n",
       "      <td>...</td>\n",
       "      <td>464000.0</td>\n",
       "      <td>2016.0</td>\n",
       "      <td>376000.0</td>\n",
       "      <td>5672.48</td>\n",
       "      <td>None</td>\n",
       "      <td>NaN</td>\n",
       "      <td>6.111001e+13</td>\n",
       "      <td>1</td>\n",
       "      <td>0.055619</td>\n",
       "      <td>2017-01-01</td>\n",
       "    </tr>\n",
       "    <tr>\n",
       "      <th>2</th>\n",
       "      <td>14186244</td>\n",
       "      <td>11677</td>\n",
       "      <td>NaN</td>\n",
       "      <td>NaN</td>\n",
       "      <td>NaN</td>\n",
       "      <td>2.0</td>\n",
       "      <td>3.0</td>\n",
       "      <td>None</td>\n",
       "      <td>NaN</td>\n",
       "      <td>2.0</td>\n",
       "      <td>...</td>\n",
       "      <td>564778.0</td>\n",
       "      <td>2016.0</td>\n",
       "      <td>479489.0</td>\n",
       "      <td>6488.30</td>\n",
       "      <td>None</td>\n",
       "      <td>NaN</td>\n",
       "      <td>6.059022e+13</td>\n",
       "      <td>2</td>\n",
       "      <td>0.005383</td>\n",
       "      <td>2017-01-01</td>\n",
       "    </tr>\n",
       "    <tr>\n",
       "      <th>3</th>\n",
       "      <td>12177905</td>\n",
       "      <td>2288172</td>\n",
       "      <td>NaN</td>\n",
       "      <td>NaN</td>\n",
       "      <td>NaN</td>\n",
       "      <td>3.0</td>\n",
       "      <td>4.0</td>\n",
       "      <td>None</td>\n",
       "      <td>8.0</td>\n",
       "      <td>3.0</td>\n",
       "      <td>...</td>\n",
       "      <td>145143.0</td>\n",
       "      <td>2016.0</td>\n",
       "      <td>36225.0</td>\n",
       "      <td>1777.51</td>\n",
       "      <td>None</td>\n",
       "      <td>NaN</td>\n",
       "      <td>6.037300e+13</td>\n",
       "      <td>3</td>\n",
       "      <td>-0.103410</td>\n",
       "      <td>2017-01-01</td>\n",
       "    </tr>\n",
       "    <tr>\n",
       "      <th>4</th>\n",
       "      <td>12095076</td>\n",
       "      <td>781532</td>\n",
       "      <td>1.0</td>\n",
       "      <td>NaN</td>\n",
       "      <td>NaN</td>\n",
       "      <td>3.0</td>\n",
       "      <td>4.0</td>\n",
       "      <td>None</td>\n",
       "      <td>9.0</td>\n",
       "      <td>3.0</td>\n",
       "      <td>...</td>\n",
       "      <td>773303.0</td>\n",
       "      <td>2016.0</td>\n",
       "      <td>496619.0</td>\n",
       "      <td>9516.26</td>\n",
       "      <td>None</td>\n",
       "      <td>NaN</td>\n",
       "      <td>6.037461e+13</td>\n",
       "      <td>6</td>\n",
       "      <td>-0.001011</td>\n",
       "      <td>2017-01-01</td>\n",
       "    </tr>\n",
       "  </tbody>\n",
       "</table>\n",
       "<p>5 rows × 62 columns</p>\n",
       "</div>"
      ],
      "text/plain": [
       "   parcelid       id  airconditioningtypeid  architecturalstyletypeid  \\\n",
       "0  14297519  1727539                    NaN                       NaN   \n",
       "1  17052889  1387261                    NaN                       NaN   \n",
       "2  14186244    11677                    NaN                       NaN   \n",
       "3  12177905  2288172                    NaN                       NaN   \n",
       "4  12095076   781532                    1.0                       NaN   \n",
       "\n",
       "   basementsqft  bathroomcnt  bedroomcnt buildingclasstypeid  \\\n",
       "0           NaN          3.5         4.0                None   \n",
       "1           NaN          1.0         2.0                None   \n",
       "2           NaN          2.0         3.0                None   \n",
       "3           NaN          3.0         4.0                None   \n",
       "4           NaN          3.0         4.0                None   \n",
       "\n",
       "   buildingqualitytypeid  calculatedbathnbr  ...  taxvaluedollarcnt  \\\n",
       "0                    NaN                3.5  ...          1023282.0   \n",
       "1                    NaN                1.0  ...           464000.0   \n",
       "2                    NaN                2.0  ...           564778.0   \n",
       "3                    8.0                3.0  ...           145143.0   \n",
       "4                    9.0                3.0  ...           773303.0   \n",
       "\n",
       "   assessmentyear  landtaxvaluedollarcnt  taxamount taxdelinquencyflag  \\\n",
       "0          2016.0               537569.0   11013.72               None   \n",
       "1          2016.0               376000.0    5672.48               None   \n",
       "2          2016.0               479489.0    6488.30               None   \n",
       "3          2016.0                36225.0    1777.51               None   \n",
       "4          2016.0               496619.0    9516.26               None   \n",
       "\n",
       "  taxdelinquencyyear  censustractandblock  id  logerror  transactiondate  \n",
       "0                NaN         6.059063e+13   0  0.025595       2017-01-01  \n",
       "1                NaN         6.111001e+13   1  0.055619       2017-01-01  \n",
       "2                NaN         6.059022e+13   2  0.005383       2017-01-01  \n",
       "3                NaN         6.037300e+13   3 -0.103410       2017-01-01  \n",
       "4                NaN         6.037461e+13   6 -0.001011       2017-01-01  \n",
       "\n",
       "[5 rows x 62 columns]"
      ]
     },
     "execution_count": 2,
     "metadata": {},
     "output_type": "execute_result"
    }
   ],
   "source": [
    "raw_data = zillow_clustering_acquire.get_zillow_data()\n",
    "raw_data.head()"
   ]
  },
  {
   "cell_type": "code",
   "execution_count": 3,
   "id": "a6dc752b",
   "metadata": {},
   "outputs": [],
   "source": [
    "df = raw_data"
   ]
  },
  {
   "cell_type": "code",
   "execution_count": 4,
   "id": "4b17d26b",
   "metadata": {},
   "outputs": [
    {
     "data": {
      "text/plain": [
       "((25569, 34), (10959, 34), (9132, 34))"
      ]
     },
     "execution_count": 4,
     "metadata": {},
     "output_type": "execute_result"
    }
   ],
   "source": [
    "train, validate, test = zillow_clustering_prepare.prep_zillow(df)\n",
    "train.shape, validate.shape, test.shape"
   ]
  },
  {
   "cell_type": "code",
   "execution_count": 5,
   "id": "75702acd",
   "metadata": {},
   "outputs": [
    {
     "data": {
      "text/html": [
       "<div>\n",
       "<style scoped>\n",
       "    .dataframe tbody tr th:only-of-type {\n",
       "        vertical-align: middle;\n",
       "    }\n",
       "\n",
       "    .dataframe tbody tr th {\n",
       "        vertical-align: top;\n",
       "    }\n",
       "\n",
       "    .dataframe thead th {\n",
       "        text-align: right;\n",
       "    }\n",
       "</style>\n",
       "<table border=\"1\" class=\"dataframe\">\n",
       "  <thead>\n",
       "    <tr style=\"text-align: right;\">\n",
       "      <th></th>\n",
       "      <th>parcel_id</th>\n",
       "      <th>id</th>\n",
       "      <th>bathroom</th>\n",
       "      <th>bedroom</th>\n",
       "      <th>buildingqualitytypeid</th>\n",
       "      <th>calculatedbathnbr</th>\n",
       "      <th>square_feet</th>\n",
       "      <th>finishedsquarefeet12</th>\n",
       "      <th>county</th>\n",
       "      <th>fullbathcnt</th>\n",
       "      <th>...</th>\n",
       "      <th>structuretaxvaluedollarcnt</th>\n",
       "      <th>house_value</th>\n",
       "      <th>assessmentyear</th>\n",
       "      <th>land_value</th>\n",
       "      <th>tax</th>\n",
       "      <th>censustractandblock</th>\n",
       "      <th>id</th>\n",
       "      <th>log_error</th>\n",
       "      <th>transaction_date</th>\n",
       "      <th>age</th>\n",
       "    </tr>\n",
       "  </thead>\n",
       "  <tbody>\n",
       "    <tr>\n",
       "      <th>21670</th>\n",
       "      <td>10786425</td>\n",
       "      <td>2029912</td>\n",
       "      <td>2.0</td>\n",
       "      <td>4</td>\n",
       "      <td>6.000000</td>\n",
       "      <td>2.0</td>\n",
       "      <td>1584.0</td>\n",
       "      <td>1584.0</td>\n",
       "      <td>Los_Angeles</td>\n",
       "      <td>2.0</td>\n",
       "      <td>...</td>\n",
       "      <td>105376.0</td>\n",
       "      <td>180579.0</td>\n",
       "      <td>2016.0</td>\n",
       "      <td>75203.0</td>\n",
       "      <td>2434.07</td>\n",
       "      <td>6.037135e+13</td>\n",
       "      <td>32285</td>\n",
       "      <td>0.034140</td>\n",
       "      <td>2017-05-02</td>\n",
       "      <td>61.0</td>\n",
       "    </tr>\n",
       "    <tr>\n",
       "      <th>37469</th>\n",
       "      <td>11990808</td>\n",
       "      <td>139967</td>\n",
       "      <td>2.0</td>\n",
       "      <td>4</td>\n",
       "      <td>8.000000</td>\n",
       "      <td>2.0</td>\n",
       "      <td>2693.0</td>\n",
       "      <td>2693.0</td>\n",
       "      <td>Los_Angeles</td>\n",
       "      <td>2.0</td>\n",
       "      <td>...</td>\n",
       "      <td>123081.0</td>\n",
       "      <td>529755.0</td>\n",
       "      <td>2016.0</td>\n",
       "      <td>406674.0</td>\n",
       "      <td>6576.33</td>\n",
       "      <td>6.037211e+13</td>\n",
       "      <td>55321</td>\n",
       "      <td>0.160950</td>\n",
       "      <td>2017-07-07</td>\n",
       "      <td>101.0</td>\n",
       "    </tr>\n",
       "    <tr>\n",
       "      <th>49189</th>\n",
       "      <td>11889369</td>\n",
       "      <td>214021</td>\n",
       "      <td>4.0</td>\n",
       "      <td>3</td>\n",
       "      <td>7.000000</td>\n",
       "      <td>4.0</td>\n",
       "      <td>2870.0</td>\n",
       "      <td>2870.0</td>\n",
       "      <td>Los_Angeles</td>\n",
       "      <td>4.0</td>\n",
       "      <td>...</td>\n",
       "      <td>165506.0</td>\n",
       "      <td>533322.0</td>\n",
       "      <td>2016.0</td>\n",
       "      <td>367816.0</td>\n",
       "      <td>6664.43</td>\n",
       "      <td>6.037464e+13</td>\n",
       "      <td>72751</td>\n",
       "      <td>0.048137</td>\n",
       "      <td>2017-08-31</td>\n",
       "      <td>91.0</td>\n",
       "    </tr>\n",
       "    <tr>\n",
       "      <th>12370</th>\n",
       "      <td>10909651</td>\n",
       "      <td>1836873</td>\n",
       "      <td>2.0</td>\n",
       "      <td>3</td>\n",
       "      <td>6.000000</td>\n",
       "      <td>2.0</td>\n",
       "      <td>1544.0</td>\n",
       "      <td>1544.0</td>\n",
       "      <td>Los_Angeles</td>\n",
       "      <td>2.0</td>\n",
       "      <td>...</td>\n",
       "      <td>149900.0</td>\n",
       "      <td>950000.0</td>\n",
       "      <td>2016.0</td>\n",
       "      <td>800100.0</td>\n",
       "      <td>11477.26</td>\n",
       "      <td>6.037144e+13</td>\n",
       "      <td>18403</td>\n",
       "      <td>0.402860</td>\n",
       "      <td>2017-03-20</td>\n",
       "      <td>79.0</td>\n",
       "    </tr>\n",
       "    <tr>\n",
       "      <th>26302</th>\n",
       "      <td>14059283</td>\n",
       "      <td>2322574</td>\n",
       "      <td>1.5</td>\n",
       "      <td>3</td>\n",
       "      <td>6.016407</td>\n",
       "      <td>1.5</td>\n",
       "      <td>1260.0</td>\n",
       "      <td>1260.0</td>\n",
       "      <td>Orange</td>\n",
       "      <td>1.0</td>\n",
       "      <td>...</td>\n",
       "      <td>78533.0</td>\n",
       "      <td>183798.0</td>\n",
       "      <td>2016.0</td>\n",
       "      <td>105265.0</td>\n",
       "      <td>2219.92</td>\n",
       "      <td>6.059099e+13</td>\n",
       "      <td>39038</td>\n",
       "      <td>0.018712</td>\n",
       "      <td>2017-05-23</td>\n",
       "      <td>52.0</td>\n",
       "    </tr>\n",
       "  </tbody>\n",
       "</table>\n",
       "<p>5 rows × 34 columns</p>\n",
       "</div>"
      ],
      "text/plain": [
       "       parcel_id       id  bathroom  bedroom  buildingqualitytypeid  \\\n",
       "21670   10786425  2029912       2.0        4               6.000000   \n",
       "37469   11990808   139967       2.0        4               8.000000   \n",
       "49189   11889369   214021       4.0        3               7.000000   \n",
       "12370   10909651  1836873       2.0        3               6.000000   \n",
       "26302   14059283  2322574       1.5        3               6.016407   \n",
       "\n",
       "       calculatedbathnbr  square_feet  finishedsquarefeet12       county  \\\n",
       "21670                2.0       1584.0                1584.0  Los_Angeles   \n",
       "37469                2.0       2693.0                2693.0  Los_Angeles   \n",
       "49189                4.0       2870.0                2870.0  Los_Angeles   \n",
       "12370                2.0       1544.0                1544.0  Los_Angeles   \n",
       "26302                1.5       1260.0                1260.0       Orange   \n",
       "\n",
       "       fullbathcnt  ...  structuretaxvaluedollarcnt  house_value  \\\n",
       "21670          2.0  ...                    105376.0     180579.0   \n",
       "37469          2.0  ...                    123081.0     529755.0   \n",
       "49189          4.0  ...                    165506.0     533322.0   \n",
       "12370          2.0  ...                    149900.0     950000.0   \n",
       "26302          1.0  ...                     78533.0     183798.0   \n",
       "\n",
       "       assessmentyear  land_value       tax  censustractandblock     id  \\\n",
       "21670          2016.0     75203.0   2434.07         6.037135e+13  32285   \n",
       "37469          2016.0    406674.0   6576.33         6.037211e+13  55321   \n",
       "49189          2016.0    367816.0   6664.43         6.037464e+13  72751   \n",
       "12370          2016.0    800100.0  11477.26         6.037144e+13  18403   \n",
       "26302          2016.0    105265.0   2219.92         6.059099e+13  39038   \n",
       "\n",
       "       log_error  transaction_date    age  \n",
       "21670   0.034140        2017-05-02   61.0  \n",
       "37469   0.160950        2017-07-07  101.0  \n",
       "49189   0.048137        2017-08-31   91.0  \n",
       "12370   0.402860        2017-03-20   79.0  \n",
       "26302   0.018712        2017-05-23   52.0  \n",
       "\n",
       "[5 rows x 34 columns]"
      ]
     },
     "execution_count": 5,
     "metadata": {},
     "output_type": "execute_result"
    }
   ],
   "source": [
    "train = zillow_clustering_prepare.impute_missing_value_zillow(train)\n",
    "train.head()"
   ]
  },
  {
   "cell_type": "code",
   "execution_count": 6,
   "id": "18a2d475",
   "metadata": {},
   "outputs": [
    {
     "data": {
      "text/plain": [
       "(24886, 34)"
      ]
     },
     "execution_count": 6,
     "metadata": {},
     "output_type": "execute_result"
    }
   ],
   "source": [
    "train.shape"
   ]
  },
  {
   "cell_type": "code",
   "execution_count": 7,
   "id": "263d30b6",
   "metadata": {},
   "outputs": [
    {
     "data": {
      "text/plain": [
       "0.9732879658962025"
      ]
     },
     "execution_count": 7,
     "metadata": {},
     "output_type": "execute_result"
    }
   ],
   "source": [
    "24886/25569"
   ]
  },
  {
   "cell_type": "code",
   "execution_count": 8,
   "id": "b746fe6c",
   "metadata": {},
   "outputs": [
    {
     "name": "stdout",
     "output_type": "stream",
     "text": [
      "<class 'pandas.core.frame.DataFrame'>\n",
      "Int64Index: 24886 entries, 21670 to 35434\n",
      "Data columns (total 34 columns):\n",
      " #   Column                      Non-Null Count  Dtype  \n",
      "---  ------                      --------------  -----  \n",
      " 0   parcel_id                   24886 non-null  int64  \n",
      " 1   id                          24886 non-null  int64  \n",
      " 2   bathroom                    24886 non-null  float64\n",
      " 3   bedroom                     24886 non-null  int64  \n",
      " 4   buildingqualitytypeid       24886 non-null  float64\n",
      " 5   calculatedbathnbr           24886 non-null  float64\n",
      " 6   square_feet                 24886 non-null  float64\n",
      " 7   finishedsquarefeet12        24886 non-null  float64\n",
      " 8   county                      24886 non-null  object \n",
      " 9   fullbathcnt                 24886 non-null  float64\n",
      " 10  heatingorsystemtypeid       24886 non-null  float64\n",
      " 11  latitude                    24886 non-null  float64\n",
      " 12  longitude                   24886 non-null  float64\n",
      " 13  lot_square_feet             24886 non-null  float64\n",
      " 14  propertycountylandusecode   24886 non-null  object \n",
      " 15  propertylandusetypeid       24886 non-null  float64\n",
      " 16  propertyzoningdesc          24886 non-null  object \n",
      " 17  rawcensustractandblock      24886 non-null  float64\n",
      " 18  regionidcity                24886 non-null  float64\n",
      " 19  regionidcounty              24886 non-null  float64\n",
      " 20  regionidzip                 24886 non-null  float64\n",
      " 21  roomcnt                     24886 non-null  float64\n",
      " 22  unitcnt                     24886 non-null  float64\n",
      " 23  year_built                  24886 non-null  float64\n",
      " 24  structuretaxvaluedollarcnt  24886 non-null  float64\n",
      " 25  house_value                 24886 non-null  float64\n",
      " 26  assessmentyear              24886 non-null  float64\n",
      " 27  land_value                  24886 non-null  float64\n",
      " 28  tax                         24886 non-null  float64\n",
      " 29  censustractandblock         24886 non-null  float64\n",
      " 30  id                          24886 non-null  int64  \n",
      " 31  log_error                   24886 non-null  float64\n",
      " 32  transaction_date            24886 non-null  object \n",
      " 33  age                         24886 non-null  float64\n",
      "dtypes: float64(26), int64(4), object(4)\n",
      "memory usage: 6.6+ MB\n"
     ]
    }
   ],
   "source": [
    "train.info()"
   ]
  },
  {
   "cell_type": "markdown",
   "id": "d0fb9b7c",
   "metadata": {},
   "source": [
    "#### 1. Is log_error significantly different for properties in all three counties?"
   ]
  },
  {
   "cell_type": "markdown",
   "id": "69ec4a9c",
   "metadata": {},
   "source": [
    "* H0: The log_error has no difference in those three counties.\n",
    "\n",
    "* Ha: The log_error has a signigicantly difference in those three counties."
   ]
  },
  {
   "cell_type": "code",
   "execution_count": 12,
   "id": "05f588ea",
   "metadata": {},
   "outputs": [
    {
     "data": {
      "text/plain": [
       "<AxesSubplot:xlabel='county', ylabel='log_error'>"
      ]
     },
     "execution_count": 12,
     "metadata": {},
     "output_type": "execute_result"
    },
    {
     "data": {
      "image/png": "[encoded data removed]",
      "text/plain": [
       "<Figure size 432x288 with 1 Axes>"
      ]
     },
     "metadata": {
      "needs_background": "light"
     },
     "output_type": "display_data"
    }
   ],
   "source": [
    "sns.barplot(x='county', y='log_error', data=train)"
   ]
  },
  {
   "cell_type": "code",
   "execution_count": 27,
   "id": "81c09bb9",
   "metadata": {},
   "outputs": [
    {
     "data": {
      "text/plain": [
       "(10.449262057649184, 2.9096970550933062e-05)"
      ]
     },
     "execution_count": 27,
     "metadata": {},
     "output_type": "execute_result"
    }
   ],
   "source": [
    "alpha = 0.05\n",
    "\n",
    "f_county, p_county = stats.f_oneway(train[train['county'] == 'Los_Angeles'].log_error,\n",
    "                                    train[train['county'] == 'Orange'].log_error,\n",
    "                                    train[train['county'] == 'Ventura'].log_error)\n",
    "\n",
    "f_county, p_county"
   ]
  },
  {
   "cell_type": "code",
   "execution_count": 29,
   "id": "592f0a33",
   "metadata": {},
   "outputs": [
    {
     "name": "stdout",
     "output_type": "stream",
     "text": [
      "We reject the null hypothesis. The log_error has a signigicantly difference in those three counties.\n"
     ]
    }
   ],
   "source": [
    "if p_county < alpha:\n",
    "    print('We reject the null hypothesis. The log_error has a signigicantly difference in those three counties.')\n",
    "else:\n",
    "    print('We fail to reject the null hypothesis.')"
   ]
  },
  {
   "cell_type": "markdown",
   "id": "f60ef31e",
   "metadata": {},
   "source": [
    "#### 2. Orange county seems have the highest average log error, is it because orange county houses size is different than average?"
   ]
  },
  {
   "cell_type": "code",
   "execution_count": 30,
   "id": "ac290a04",
   "metadata": {},
   "outputs": [
    {
     "name": "stdout",
     "output_type": "stream",
     "text": [
      "<class 'pandas.core.frame.DataFrame'>\n",
      "Int64Index: 24886 entries, 21670 to 35434\n",
      "Data columns (total 34 columns):\n",
      " #   Column                      Non-Null Count  Dtype  \n",
      "---  ------                      --------------  -----  \n",
      " 0   parcel_id                   24886 non-null  int64  \n",
      " 1   id                          24886 non-null  int64  \n",
      " 2   bathroom                    24886 non-null  float64\n",
      " 3   bedroom                     24886 non-null  int64  \n",
      " 4   buildingqualitytypeid       24886 non-null  float64\n",
      " 5   calculatedbathnbr           24886 non-null  float64\n",
      " 6   square_feet                 24886 non-null  float64\n",
      " 7   finishedsquarefeet12        24886 non-null  float64\n",
      " 8   county                      24886 non-null  object \n",
      " 9   fullbathcnt                 24886 non-null  float64\n",
      " 10  heatingorsystemtypeid       24886 non-null  float64\n",
      " 11  latitude                    24886 non-null  float64\n",
      " 12  longitude                   24886 non-null  float64\n",
      " 13  lot_square_feet             24886 non-null  float64\n",
      " 14  propertycountylandusecode   24886 non-null  object \n",
      " 15  propertylandusetypeid       24886 non-null  float64\n",
      " 16  propertyzoningdesc          24886 non-null  object \n",
      " 17  rawcensustractandblock      24886 non-null  float64\n",
      " 18  regionidcity                24886 non-null  float64\n",
      " 19  regionidcounty              24886 non-null  float64\n",
      " 20  regionidzip                 24886 non-null  float64\n",
      " 21  roomcnt                     24886 non-null  float64\n",
      " 22  unitcnt                     24886 non-null  float64\n",
      " 23  year_built                  24886 non-null  float64\n",
      " 24  structuretaxvaluedollarcnt  24886 non-null  float64\n",
      " 25  house_value                 24886 non-null  float64\n",
      " 26  assessmentyear              24886 non-null  float64\n",
      " 27  land_value                  24886 non-null  float64\n",
      " 28  tax                         24886 non-null  float64\n",
      " 29  censustractandblock         24886 non-null  float64\n",
      " 30  id                          24886 non-null  int64  \n",
      " 31  log_error                   24886 non-null  float64\n",
      " 32  transaction_date            24886 non-null  object \n",
      " 33  age                         24886 non-null  float64\n",
      "dtypes: float64(26), int64(4), object(4)\n",
      "memory usage: 6.6+ MB\n"
     ]
    }
   ],
   "source": [
    "train.info()"
   ]
  },
  {
   "cell_type": "code",
   "execution_count": 32,
   "id": "7aadb76c",
   "metadata": {},
   "outputs": [
    {
     "data": {
      "text/plain": [
       "<AxesSubplot:xlabel='county', ylabel='square_feet'>"
      ]
     },
     "execution_count": 32,
     "metadata": {},
     "output_type": "execute_result"
    },
    {
     "data": {
      "image/png": "[encoded data removed]",
      "text/plain": [
       "<Figure size 432x288 with 1 Axes>"
      ]
     },
     "metadata": {
      "needs_background": "light"
     },
     "output_type": "display_data"
    }
   ],
   "source": [
    "sns.boxplot(data = train, x='county', y='square_feet')"
   ]
  },
  {
   "cell_type": "markdown",
   "id": "7fdebadd",
   "metadata": {},
   "source": [
    "* it is hard to see from the chart, let's do a statistic test"
   ]
  },
  {
   "cell_type": "code",
   "execution_count": 36,
   "id": "f51fc3a9",
   "metadata": {},
   "outputs": [
    {
     "data": {
      "text/plain": [
       "(23.551756063728206, 8.931433631227062e-118)"
      ]
     },
     "execution_count": 36,
     "metadata": {},
     "output_type": "execute_result"
    }
   ],
   "source": [
    "alpha = 0.05\n",
    "\n",
    "t_ft, p_ft = stats.ttest_1samp(train[train['county'] == 'Orange'].square_feet,\n",
    "                                 train['square_feet'].mean())\n",
    "\n",
    "t_ft, p_ft"
   ]
  },
  {
   "cell_type": "code",
   "execution_count": 38,
   "id": "74b6ad05",
   "metadata": {},
   "outputs": [
    {
     "name": "stdout",
     "output_type": "stream",
     "text": [
      "We reject the null hypothesis. \n"
     ]
    }
   ],
   "source": [
    "if p_ft < alpha:\n",
    "    print('We reject the null hypothesis. ')\n",
    "else:\n",
    "    print('We fail to reject the null hypothesis.')"
   ]
  },
  {
   "cell_type": "markdown",
   "id": "ded2ff0c",
   "metadata": {},
   "source": [
    "* The houses size in Orange county have a difference than average."
   ]
  },
  {
   "cell_type": "markdown",
   "id": "3ef02a0c",
   "metadata": {},
   "source": [
    "#### 3. is it because house price?"
   ]
  },
  {
   "cell_type": "code",
   "execution_count": 39,
   "id": "c04af1cd",
   "metadata": {},
   "outputs": [
    {
     "data": {
      "text/plain": [
       "<AxesSubplot:xlabel='county', ylabel='house_value'>"
      ]
     },
     "execution_count": 39,
     "metadata": {},
     "output_type": "execute_result"
    },
    {
     "data": {
      "image/png": "[encoded data removed]",
      "text/plain": [
       "<Figure size 432x288 with 1 Axes>"
      ]
     },
     "metadata": {
      "needs_background": "light"
     },
     "output_type": "display_data"
    }
   ],
   "source": [
    "sns.boxplot(data = train, x='county', y='house_value')"
   ]
  },
  {
   "cell_type": "code",
   "execution_count": 40,
   "id": "9dcb601a",
   "metadata": {},
   "outputs": [
    {
     "data": {
      "text/plain": [
       "(23.47918602554251, 4.318329707470222e-117)"
      ]
     },
     "execution_count": 40,
     "metadata": {},
     "output_type": "execute_result"
    }
   ],
   "source": [
    "alpha = 0.05\n",
    "\n",
    "t_house_value, p_house_value = stats.ttest_1samp(train[train['county'] == 'Orange'].house_value,\n",
    "                                 train['house_value'].mean())\n",
    "\n",
    "t_house_value, p_house_value"
   ]
  },
  {
   "cell_type": "code",
   "execution_count": 41,
   "id": "172a6836",
   "metadata": {},
   "outputs": [
    {
     "name": "stdout",
     "output_type": "stream",
     "text": [
      "We reject the null hypothesis. \n"
     ]
    }
   ],
   "source": [
    "if p_ft < alpha:\n",
    "    print('We reject the null hypothesis. ')\n",
    "else:\n",
    "    print('We fail to reject the null hypothesis.')"
   ]
  },
  {
   "cell_type": "markdown",
   "id": "0ad963dd",
   "metadata": {},
   "source": [
    "* The house value has a difference than average."
   ]
  },
  {
   "cell_type": "code",
   "execution_count": 43,
   "id": "56e95200",
   "metadata": {},
   "outputs": [
    {
     "data": {
      "text/plain": [
       "431219.6472844431"
      ]
     },
     "execution_count": 43,
     "metadata": {},
     "output_type": "execute_result"
    }
   ],
   "source": [
    "train[train['county'] == 'Orange'].house_value.mean()"
   ]
  },
  {
   "cell_type": "code",
   "execution_count": 44,
   "id": "76e7350c",
   "metadata": {},
   "outputs": [
    {
     "data": {
      "text/plain": [
       "360131.7151410432"
      ]
     },
     "execution_count": 44,
     "metadata": {},
     "output_type": "execute_result"
    }
   ],
   "source": [
    "train['house_value'].mean()"
   ]
  },
  {
   "cell_type": "code",
   "execution_count": null,
   "id": "2dab1865",
   "metadata": {},
   "outputs": [],
   "source": [
    "#### 4. "
   ]
  },
  {
   "cell_type": "code",
   "execution_count": 45,
   "id": "0ff7918b",
   "metadata": {
    "scrolled": true
   },
   "outputs": [
    {
     "data": {
      "text/plain": [
       "Text(0.5, 0, 'Log Error')"
      ]
     },
     "execution_count": 45,
     "metadata": {},
     "output_type": "execute_result"
    },
    {
     "data": {
      "image/png": "[encoded data removed]",
      "text/plain": [
       "<Figure size 432x288 with 1 Axes>"
      ]
     },
     "metadata": {
      "needs_background": "light"
     },
     "output_type": "display_data"
    }
   ],
   "source": [
    "sns.distplot(train.log_error)\n",
    "plt.title('Log Error Distribution', fontsize=20)\n",
    "plt.xlabel('Log Error')"
   ]
  },
  {
   "cell_type": "code",
   "execution_count": null,
   "id": "3d5bab9c",
   "metadata": {},
   "outputs": [],
   "source": []
  },
  {
   "cell_type": "code",
   "execution_count": null,
   "id": "7d589fb5",
   "metadata": {},
   "outputs": [],
   "source": []
  }
 ],
 "metadata": {
  "kernelspec": {
   "display_name": "Python 3 (ipykernel)",
   "language": "python",
   "name": "python3"
  },
  "language_info": {
   "codemirror_mode": {
    "name": "ipython",
    "version": 3
   },
   "file_extension": ".py",
   "mimetype": "text/x-python",
   "name": "python",
   "nbconvert_exporter": "python",
   "pygments_lexer": "ipython3",
   "version": "3.9.12"
  }
 },
 "nbformat": 4,
 "nbformat_minor": 5
}
